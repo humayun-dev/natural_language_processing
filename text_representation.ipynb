{
 "cells": [
  {
   "cell_type": "code",
   "execution_count": null,
   "id": "7fc640b4",
   "metadata": {},
   "outputs": [],
   "source": [
    "# Text representation is to convert the text into the numbers\n",
    "# the different techniques are: \n",
    "# 1. One hot encoding\n",
    "# 2. Bag of words\n",
    "# 3. TF-IDF\n",
    "# 4. Word embeddings (Word2Vec, GloVe, FastText)"
   ]
  },
  {
   "cell_type": "code",
   "execution_count": 4,
   "id": "cc46e435",
   "metadata": {},
   "outputs": [
    {
     "data": {
      "text/html": [
       "<div>\n",
       "<style scoped>\n",
       "    .dataframe tbody tr th:only-of-type {\n",
       "        vertical-align: middle;\n",
       "    }\n",
       "\n",
       "    .dataframe tbody tr th {\n",
       "        vertical-align: top;\n",
       "    }\n",
       "\n",
       "    .dataframe thead th {\n",
       "        text-align: right;\n",
       "    }\n",
       "</style>\n",
       "<table border=\"1\" class=\"dataframe\">\n",
       "  <thead>\n",
       "    <tr style=\"text-align: right;\">\n",
       "      <th></th>\n",
       "      <th>text</th>\n",
       "    </tr>\n",
       "  </thead>\n",
       "  <tbody>\n",
       "    <tr>\n",
       "      <th>0</th>\n",
       "      <td>People watch Youtube</td>\n",
       "    </tr>\n",
       "    <tr>\n",
       "      <th>1</th>\n",
       "      <td>Youtube watch People</td>\n",
       "    </tr>\n",
       "    <tr>\n",
       "      <th>2</th>\n",
       "      <td>People write comment</td>\n",
       "    </tr>\n",
       "    <tr>\n",
       "      <th>3</th>\n",
       "      <td>Youtube write comment</td>\n",
       "    </tr>\n",
       "  </tbody>\n",
       "</table>\n",
       "</div>"
      ],
      "text/plain": [
       "                    text\n",
       "0   People watch Youtube\n",
       "1   Youtube watch People\n",
       "2   People write comment\n",
       "3  Youtube write comment"
      ]
     },
     "execution_count": 4,
     "metadata": {},
     "output_type": "execute_result"
    }
   ],
   "source": [
    "# 1. Bag of Words - frequency of words in the text matter, but the order of words does not matter.\n",
    "# Author: Muhammad Humayun Khan\n",
    "\n",
    "import pandas as pd\n",
    "import numpy as np\n",
    "\n",
    "# Sample DataFrame - Create a DataFrame with some text data\n",
    "df = pd.DataFrame({\n",
    "    'text': [\"People watch Youtube\", \"Youtube watch People\", \"People write comment\", \"Youtube write comment\"]\n",
    "})\n",
    "\n",
    "df"
   ]
  },
  {
   "cell_type": "code",
   "execution_count": null,
   "id": "a40d3a61",
   "metadata": {},
   "outputs": [
    {
     "name": "stdout",
     "output_type": "stream",
     "text": [
      "Vocabulary: {'people': 1, 'watch': 2, 'youtube': 4, 'write': 3, 'comment': 0}\n"
     ]
    }
   ],
   "source": [
    "# At first the object of the CountVectorizer class is created, which will be used to convert the text data into a matrix of token counts.\n",
    "# Now to get the unique words from the text data, I print the vocabulary of the CountVectorizer object.\n",
    "# The vocabulary displayed all the unique words in order of the index number and index number is shown against each word.\n",
    "from sklearn.feature_extraction.text import CountVectorizer\n",
    "\n",
    "# Initialize CountVectorizer\n",
    "vectorizer = CountVectorizer()\n",
    "\n",
    "# Fit and transform the text data\n",
    "X = vectorizer.fit_transform(df['text'])\n",
    "\n",
    "# Print the vocabulary\n",
    "print(\"Vocabulary:\", vectorizer.vocabulary_)\n",
    "\n",
    "# the ouput below showing comment as index 0, People as index 1, watch as index 2 and Youtube as index 3"
   ]
  },
  {
   "cell_type": "code",
   "execution_count": 6,
   "id": "d49523fd",
   "metadata": {},
   "outputs": [
    {
     "name": "stdout",
     "output_type": "stream",
     "text": [
      "Shape of the matrix: (4, 5)\n"
     ]
    }
   ],
   "source": [
    "print(\"Shape of the matrix:\", X.shape)"
   ]
  },
  {
   "cell_type": "code",
   "execution_count": 7,
   "id": "3d851bc9",
   "metadata": {},
   "outputs": [
    {
     "name": "stdout",
     "output_type": "stream",
     "text": [
      "Matrix in array format:\n",
      " [[0 1 1 0 1]\n",
      " [0 1 1 0 1]\n",
      " [1 1 0 1 0]\n",
      " [1 0 0 1 1]]\n"
     ]
    }
   ],
   "source": [
    "# now want to print the matrix in array format\n",
    "print(\"Matrix in array format:\\n\", X.toarray())"
   ]
  },
  {
   "cell_type": "code",
   "execution_count": null,
   "id": "0355f01f",
   "metadata": {},
   "outputs": [
    {
     "data": {
      "text/plain": [
       "array([[1, 1, 1, 1, 1]])"
      ]
     },
     "execution_count": 9,
     "metadata": {},
     "output_type": "execute_result"
    }
   ],
   "source": [
    "# lets predict a new text\n",
    "new_text = [\"People watch Youtube and write of comment\"]\n",
    "# Transform the new text using the same vectorizer\n",
    "vectorizer.transform(new_text).toarray()\n",
    "\n",
    "# the output below showing that the words \"and\", \"of\" are not in the vocabulary, so they are not counted."
   ]
  }
 ],
 "metadata": {
  "kernelspec": {
   "display_name": "venv",
   "language": "python",
   "name": "python3"
  },
  "language_info": {
   "codemirror_mode": {
    "name": "ipython",
    "version": 3
   },
   "file_extension": ".py",
   "mimetype": "text/x-python",
   "name": "python",
   "nbconvert_exporter": "python",
   "pygments_lexer": "ipython3",
   "version": "3.10.0"
  }
 },
 "nbformat": 4,
 "nbformat_minor": 5
}
