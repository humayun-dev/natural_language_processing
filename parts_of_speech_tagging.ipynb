{
 "cells": [
  {
   "cell_type": "code",
   "execution_count": 1,
   "id": "578ec657",
   "metadata": {},
   "outputs": [],
   "source": [
    "# Parts of speech tagging - identifying each word in the sentence as a noun, verb, adjective, etc.\n",
    "# Author: Muhammad Humayun Khan\n",
    "\n",
    "import spacy"
   ]
  },
  {
   "cell_type": "code",
   "execution_count": 9,
   "id": "506667a2",
   "metadata": {},
   "outputs": [
    {
     "data": {
      "text/plain": [
       "'The quick brown fox jumps over the lazy dog'"
      ]
     },
     "execution_count": 9,
     "metadata": {},
     "output_type": "execute_result"
    }
   ],
   "source": [
    "# English language model\n",
    "nlp = spacy.load(\"en_core_web_sm\")\n",
    "\n",
    "doc = nlp(\"The quick brown fox jumps over the lazy dog\")\n",
    "\n",
    "doc.text"
   ]
  },
  {
   "cell_type": "code",
   "execution_count": 10,
   "id": "3c0793d7",
   "metadata": {},
   "outputs": [
    {
     "data": {
      "text/plain": [
       "'dog'"
      ]
     },
     "execution_count": 10,
     "metadata": {},
     "output_type": "execute_result"
    }
   ],
   "source": [
    "doc[-1].text  # Accessing the last token in the document"
   ]
  },
  {
   "cell_type": "code",
   "execution_count": 11,
   "id": "5d5f3586",
   "metadata": {},
   "outputs": [
    {
     "data": {
      "text/plain": [
       "brown"
      ]
     },
     "execution_count": 11,
     "metadata": {},
     "output_type": "execute_result"
    }
   ],
   "source": [
    "doc[2]"
   ]
  },
  {
   "cell_type": "code",
   "execution_count": 12,
   "id": "6bece939",
   "metadata": {},
   "outputs": [
    {
     "data": {
      "text/plain": [
       "'ADJ'"
      ]
     },
     "execution_count": 12,
     "metadata": {},
     "output_type": "execute_result"
    }
   ],
   "source": [
    "# checking the part of the speech tag of the token\n",
    "doc[2].pos_"
   ]
  },
  {
   "cell_type": "code",
   "execution_count": 13,
   "id": "ffa42e5c",
   "metadata": {},
   "outputs": [
    {
     "data": {
      "text/plain": [
       "'JJ'"
      ]
     },
     "execution_count": 13,
     "metadata": {},
     "output_type": "execute_result"
    }
   ],
   "source": [
    "\n",
    "doc[2].tag_  # Detailed part of speech tag"
   ]
  },
  {
   "cell_type": "code",
   "execution_count": 14,
   "id": "5949c094",
   "metadata": {},
   "outputs": [
    {
     "data": {
      "text/plain": [
       "'adjective (English), other noun-modifier (Chinese)'"
      ]
     },
     "execution_count": 14,
     "metadata": {},
     "output_type": "execute_result"
    }
   ],
   "source": [
    "# explain the part of speech tag\n",
    "spacy.explain(doc[2].tag_)"
   ]
  },
  {
   "cell_type": "code",
   "execution_count": 15,
   "id": "f55063ca",
   "metadata": {},
   "outputs": [
    {
     "name": "stdout",
     "output_type": "stream",
     "text": [
      "The ------> DET DT determiner\n",
      "quick ------> ADJ JJ adjective (English), other noun-modifier (Chinese)\n",
      "brown ------> ADJ JJ adjective (English), other noun-modifier (Chinese)\n",
      "fox ------> NOUN NN noun, singular or mass\n",
      "jumps ------> VERB VBZ verb, 3rd person singular present\n",
      "over ------> ADP IN conjunction, subordinating or preposition\n",
      "the ------> DET DT determiner\n",
      "lazy ------> ADJ JJ adjective (English), other noun-modifier (Chinese)\n",
      "dog ------> NOUN NN noun, singular or mass\n"
     ]
    }
   ],
   "source": [
    "# explain all the document\n",
    "for word in doc:\n",
    "    print(word.text,\"------>\", word.pos_,word.tag_,spacy.explain(word.tag_))"
   ]
  },
  {
   "cell_type": "code",
   "execution_count": 16,
   "id": "40745a66",
   "metadata": {},
   "outputs": [
    {
     "data": {
      "text/html": [
       "<span class=\"tex2jax_ignore\"><svg xmlns=\"http://www.w3.org/2000/svg\" xmlns:xlink=\"http://www.w3.org/1999/xlink\" xml:lang=\"en\" id=\"e60416e65d094978ac4d9c523383ec49-0\" class=\"displacy\" width=\"1625\" height=\"399.5\" direction=\"ltr\" style=\"max-width: none; height: 399.5px; color: #000000; background: #ffffff; font-family: Arial; direction: ltr\">\n",
       "<text class=\"displacy-token\" fill=\"currentColor\" text-anchor=\"middle\" y=\"309.5\">\n",
       "    <tspan class=\"displacy-word\" fill=\"currentColor\" x=\"50\">The</tspan>\n",
       "    <tspan class=\"displacy-tag\" dy=\"2em\" fill=\"currentColor\" x=\"50\">DET</tspan>\n",
       "</text>\n",
       "\n",
       "<text class=\"displacy-token\" fill=\"currentColor\" text-anchor=\"middle\" y=\"309.5\">\n",
       "    <tspan class=\"displacy-word\" fill=\"currentColor\" x=\"225\">quick</tspan>\n",
       "    <tspan class=\"displacy-tag\" dy=\"2em\" fill=\"currentColor\" x=\"225\">ADJ</tspan>\n",
       "</text>\n",
       "\n",
       "<text class=\"displacy-token\" fill=\"currentColor\" text-anchor=\"middle\" y=\"309.5\">\n",
       "    <tspan class=\"displacy-word\" fill=\"currentColor\" x=\"400\">brown</tspan>\n",
       "    <tspan class=\"displacy-tag\" dy=\"2em\" fill=\"currentColor\" x=\"400\">ADJ</tspan>\n",
       "</text>\n",
       "\n",
       "<text class=\"displacy-token\" fill=\"currentColor\" text-anchor=\"middle\" y=\"309.5\">\n",
       "    <tspan class=\"displacy-word\" fill=\"currentColor\" x=\"575\">fox</tspan>\n",
       "    <tspan class=\"displacy-tag\" dy=\"2em\" fill=\"currentColor\" x=\"575\">NOUN</tspan>\n",
       "</text>\n",
       "\n",
       "<text class=\"displacy-token\" fill=\"currentColor\" text-anchor=\"middle\" y=\"309.5\">\n",
       "    <tspan class=\"displacy-word\" fill=\"currentColor\" x=\"750\">jumps</tspan>\n",
       "    <tspan class=\"displacy-tag\" dy=\"2em\" fill=\"currentColor\" x=\"750\">VERB</tspan>\n",
       "</text>\n",
       "\n",
       "<text class=\"displacy-token\" fill=\"currentColor\" text-anchor=\"middle\" y=\"309.5\">\n",
       "    <tspan class=\"displacy-word\" fill=\"currentColor\" x=\"925\">over</tspan>\n",
       "    <tspan class=\"displacy-tag\" dy=\"2em\" fill=\"currentColor\" x=\"925\">ADP</tspan>\n",
       "</text>\n",
       "\n",
       "<text class=\"displacy-token\" fill=\"currentColor\" text-anchor=\"middle\" y=\"309.5\">\n",
       "    <tspan class=\"displacy-word\" fill=\"currentColor\" x=\"1100\">the</tspan>\n",
       "    <tspan class=\"displacy-tag\" dy=\"2em\" fill=\"currentColor\" x=\"1100\">DET</tspan>\n",
       "</text>\n",
       "\n",
       "<text class=\"displacy-token\" fill=\"currentColor\" text-anchor=\"middle\" y=\"309.5\">\n",
       "    <tspan class=\"displacy-word\" fill=\"currentColor\" x=\"1275\">lazy</tspan>\n",
       "    <tspan class=\"displacy-tag\" dy=\"2em\" fill=\"currentColor\" x=\"1275\">ADJ</tspan>\n",
       "</text>\n",
       "\n",
       "<text class=\"displacy-token\" fill=\"currentColor\" text-anchor=\"middle\" y=\"309.5\">\n",
       "    <tspan class=\"displacy-word\" fill=\"currentColor\" x=\"1450\">dog</tspan>\n",
       "    <tspan class=\"displacy-tag\" dy=\"2em\" fill=\"currentColor\" x=\"1450\">NOUN</tspan>\n",
       "</text>\n",
       "\n",
       "<g class=\"displacy-arrow\">\n",
       "    <path class=\"displacy-arc\" id=\"arrow-e60416e65d094978ac4d9c523383ec49-0-0\" stroke-width=\"2px\" d=\"M70,264.5 C70,2.0 575.0,2.0 575.0,264.5\" fill=\"none\" stroke=\"currentColor\"/>\n",
       "    <text dy=\"1.25em\" style=\"font-size: 0.8em; letter-spacing: 1px\">\n",
       "        <textPath xlink:href=\"#arrow-e60416e65d094978ac4d9c523383ec49-0-0\" class=\"displacy-label\" startOffset=\"50%\" side=\"left\" fill=\"currentColor\" text-anchor=\"middle\">det</textPath>\n",
       "    </text>\n",
       "    <path class=\"displacy-arrowhead\" d=\"M70,266.5 L62,254.5 78,254.5\" fill=\"currentColor\"/>\n",
       "</g>\n",
       "\n",
       "<g class=\"displacy-arrow\">\n",
       "    <path class=\"displacy-arc\" id=\"arrow-e60416e65d094978ac4d9c523383ec49-0-1\" stroke-width=\"2px\" d=\"M245,264.5 C245,89.5 570.0,89.5 570.0,264.5\" fill=\"none\" stroke=\"currentColor\"/>\n",
       "    <text dy=\"1.25em\" style=\"font-size: 0.8em; letter-spacing: 1px\">\n",
       "        <textPath xlink:href=\"#arrow-e60416e65d094978ac4d9c523383ec49-0-1\" class=\"displacy-label\" startOffset=\"50%\" side=\"left\" fill=\"currentColor\" text-anchor=\"middle\">amod</textPath>\n",
       "    </text>\n",
       "    <path class=\"displacy-arrowhead\" d=\"M245,266.5 L237,254.5 253,254.5\" fill=\"currentColor\"/>\n",
       "</g>\n",
       "\n",
       "<g class=\"displacy-arrow\">\n",
       "    <path class=\"displacy-arc\" id=\"arrow-e60416e65d094978ac4d9c523383ec49-0-2\" stroke-width=\"2px\" d=\"M420,264.5 C420,177.0 565.0,177.0 565.0,264.5\" fill=\"none\" stroke=\"currentColor\"/>\n",
       "    <text dy=\"1.25em\" style=\"font-size: 0.8em; letter-spacing: 1px\">\n",
       "        <textPath xlink:href=\"#arrow-e60416e65d094978ac4d9c523383ec49-0-2\" class=\"displacy-label\" startOffset=\"50%\" side=\"left\" fill=\"currentColor\" text-anchor=\"middle\">amod</textPath>\n",
       "    </text>\n",
       "    <path class=\"displacy-arrowhead\" d=\"M420,266.5 L412,254.5 428,254.5\" fill=\"currentColor\"/>\n",
       "</g>\n",
       "\n",
       "<g class=\"displacy-arrow\">\n",
       "    <path class=\"displacy-arc\" id=\"arrow-e60416e65d094978ac4d9c523383ec49-0-3\" stroke-width=\"2px\" d=\"M595,264.5 C595,177.0 740.0,177.0 740.0,264.5\" fill=\"none\" stroke=\"currentColor\"/>\n",
       "    <text dy=\"1.25em\" style=\"font-size: 0.8em; letter-spacing: 1px\">\n",
       "        <textPath xlink:href=\"#arrow-e60416e65d094978ac4d9c523383ec49-0-3\" class=\"displacy-label\" startOffset=\"50%\" side=\"left\" fill=\"currentColor\" text-anchor=\"middle\">nsubj</textPath>\n",
       "    </text>\n",
       "    <path class=\"displacy-arrowhead\" d=\"M595,266.5 L587,254.5 603,254.5\" fill=\"currentColor\"/>\n",
       "</g>\n",
       "\n",
       "<g class=\"displacy-arrow\">\n",
       "    <path class=\"displacy-arc\" id=\"arrow-e60416e65d094978ac4d9c523383ec49-0-4\" stroke-width=\"2px\" d=\"M770,264.5 C770,177.0 915.0,177.0 915.0,264.5\" fill=\"none\" stroke=\"currentColor\"/>\n",
       "    <text dy=\"1.25em\" style=\"font-size: 0.8em; letter-spacing: 1px\">\n",
       "        <textPath xlink:href=\"#arrow-e60416e65d094978ac4d9c523383ec49-0-4\" class=\"displacy-label\" startOffset=\"50%\" side=\"left\" fill=\"currentColor\" text-anchor=\"middle\">prep</textPath>\n",
       "    </text>\n",
       "    <path class=\"displacy-arrowhead\" d=\"M915.0,266.5 L923.0,254.5 907.0,254.5\" fill=\"currentColor\"/>\n",
       "</g>\n",
       "\n",
       "<g class=\"displacy-arrow\">\n",
       "    <path class=\"displacy-arc\" id=\"arrow-e60416e65d094978ac4d9c523383ec49-0-5\" stroke-width=\"2px\" d=\"M1120,264.5 C1120,89.5 1445.0,89.5 1445.0,264.5\" fill=\"none\" stroke=\"currentColor\"/>\n",
       "    <text dy=\"1.25em\" style=\"font-size: 0.8em; letter-spacing: 1px\">\n",
       "        <textPath xlink:href=\"#arrow-e60416e65d094978ac4d9c523383ec49-0-5\" class=\"displacy-label\" startOffset=\"50%\" side=\"left\" fill=\"currentColor\" text-anchor=\"middle\">det</textPath>\n",
       "    </text>\n",
       "    <path class=\"displacy-arrowhead\" d=\"M1120,266.5 L1112,254.5 1128,254.5\" fill=\"currentColor\"/>\n",
       "</g>\n",
       "\n",
       "<g class=\"displacy-arrow\">\n",
       "    <path class=\"displacy-arc\" id=\"arrow-e60416e65d094978ac4d9c523383ec49-0-6\" stroke-width=\"2px\" d=\"M1295,264.5 C1295,177.0 1440.0,177.0 1440.0,264.5\" fill=\"none\" stroke=\"currentColor\"/>\n",
       "    <text dy=\"1.25em\" style=\"font-size: 0.8em; letter-spacing: 1px\">\n",
       "        <textPath xlink:href=\"#arrow-e60416e65d094978ac4d9c523383ec49-0-6\" class=\"displacy-label\" startOffset=\"50%\" side=\"left\" fill=\"currentColor\" text-anchor=\"middle\">amod</textPath>\n",
       "    </text>\n",
       "    <path class=\"displacy-arrowhead\" d=\"M1295,266.5 L1287,254.5 1303,254.5\" fill=\"currentColor\"/>\n",
       "</g>\n",
       "\n",
       "<g class=\"displacy-arrow\">\n",
       "    <path class=\"displacy-arc\" id=\"arrow-e60416e65d094978ac4d9c523383ec49-0-7\" stroke-width=\"2px\" d=\"M945,264.5 C945,2.0 1450.0,2.0 1450.0,264.5\" fill=\"none\" stroke=\"currentColor\"/>\n",
       "    <text dy=\"1.25em\" style=\"font-size: 0.8em; letter-spacing: 1px\">\n",
       "        <textPath xlink:href=\"#arrow-e60416e65d094978ac4d9c523383ec49-0-7\" class=\"displacy-label\" startOffset=\"50%\" side=\"left\" fill=\"currentColor\" text-anchor=\"middle\">pobj</textPath>\n",
       "    </text>\n",
       "    <path class=\"displacy-arrowhead\" d=\"M1450.0,266.5 L1458.0,254.5 1442.0,254.5\" fill=\"currentColor\"/>\n",
       "</g>\n",
       "</svg></span>"
      ],
      "text/plain": [
       "<IPython.core.display.HTML object>"
      ]
     },
     "metadata": {},
     "output_type": "display_data"
    }
   ],
   "source": [
    "# for visual representation of the parts of speech tagging use the displacy module\n",
    "from spacy import displacy\n",
    "\n",
    "# Render the document with part-of-speech tags\n",
    "displacy.render(doc, style=\"dep\", jupyter=True)"
   ]
  },
  {
   "cell_type": "code",
   "execution_count": 18,
   "id": "1b4daed8",
   "metadata": {},
   "outputs": [
    {
     "data": {
      "text/html": [
       "<span class=\"tex2jax_ignore\"><svg xmlns=\"http://www.w3.org/2000/svg\" xmlns:xlink=\"http://www.w3.org/1999/xlink\" xml:lang=\"en\" id=\"d3db140c2c994fbb864b661fe366bf7c-0\" class=\"displacy\" width=\"770\" height=\"257.0\" direction=\"ltr\" style=\"max-width: none; height: 257.0px; color: #fff; background: #00a65a; font-family: Arial; direction: ltr\">\n",
       "<text class=\"displacy-token\" fill=\"currentColor\" text-anchor=\"middle\" y=\"167.0\">\n",
       "    <tspan class=\"displacy-word\" fill=\"currentColor\" x=\"50\">The</tspan>\n",
       "    <tspan class=\"displacy-tag\" dy=\"2em\" fill=\"currentColor\" x=\"50\">DET</tspan>\n",
       "</text>\n",
       "\n",
       "<text class=\"displacy-token\" fill=\"currentColor\" text-anchor=\"middle\" y=\"167.0\">\n",
       "    <tspan class=\"displacy-word\" fill=\"currentColor\" x=\"130\">quick</tspan>\n",
       "    <tspan class=\"displacy-tag\" dy=\"2em\" fill=\"currentColor\" x=\"130\">ADJ</tspan>\n",
       "</text>\n",
       "\n",
       "<text class=\"displacy-token\" fill=\"currentColor\" text-anchor=\"middle\" y=\"167.0\">\n",
       "    <tspan class=\"displacy-word\" fill=\"currentColor\" x=\"210\">brown</tspan>\n",
       "    <tspan class=\"displacy-tag\" dy=\"2em\" fill=\"currentColor\" x=\"210\">ADJ</tspan>\n",
       "</text>\n",
       "\n",
       "<text class=\"displacy-token\" fill=\"currentColor\" text-anchor=\"middle\" y=\"167.0\">\n",
       "    <tspan class=\"displacy-word\" fill=\"currentColor\" x=\"290\">fox</tspan>\n",
       "    <tspan class=\"displacy-tag\" dy=\"2em\" fill=\"currentColor\" x=\"290\">NOUN</tspan>\n",
       "</text>\n",
       "\n",
       "<text class=\"displacy-token\" fill=\"currentColor\" text-anchor=\"middle\" y=\"167.0\">\n",
       "    <tspan class=\"displacy-word\" fill=\"currentColor\" x=\"370\">jumps</tspan>\n",
       "    <tspan class=\"displacy-tag\" dy=\"2em\" fill=\"currentColor\" x=\"370\">VERB</tspan>\n",
       "</text>\n",
       "\n",
       "<text class=\"displacy-token\" fill=\"currentColor\" text-anchor=\"middle\" y=\"167.0\">\n",
       "    <tspan class=\"displacy-word\" fill=\"currentColor\" x=\"450\">over</tspan>\n",
       "    <tspan class=\"displacy-tag\" dy=\"2em\" fill=\"currentColor\" x=\"450\">ADP</tspan>\n",
       "</text>\n",
       "\n",
       "<text class=\"displacy-token\" fill=\"currentColor\" text-anchor=\"middle\" y=\"167.0\">\n",
       "    <tspan class=\"displacy-word\" fill=\"currentColor\" x=\"530\">the</tspan>\n",
       "    <tspan class=\"displacy-tag\" dy=\"2em\" fill=\"currentColor\" x=\"530\">DET</tspan>\n",
       "</text>\n",
       "\n",
       "<text class=\"displacy-token\" fill=\"currentColor\" text-anchor=\"middle\" y=\"167.0\">\n",
       "    <tspan class=\"displacy-word\" fill=\"currentColor\" x=\"610\">lazy</tspan>\n",
       "    <tspan class=\"displacy-tag\" dy=\"2em\" fill=\"currentColor\" x=\"610\">ADJ</tspan>\n",
       "</text>\n",
       "\n",
       "<text class=\"displacy-token\" fill=\"currentColor\" text-anchor=\"middle\" y=\"167.0\">\n",
       "    <tspan class=\"displacy-word\" fill=\"currentColor\" x=\"690\">dog</tspan>\n",
       "    <tspan class=\"displacy-tag\" dy=\"2em\" fill=\"currentColor\" x=\"690\">NOUN</tspan>\n",
       "</text>\n",
       "\n",
       "<g class=\"displacy-arrow\">\n",
       "    <path class=\"displacy-arc\" id=\"arrow-d3db140c2c994fbb864b661fe366bf7c-0-0\" stroke-width=\"2px\" d=\"M62,122.0 62,82.0 290.0,82.0 290.0,122.0\" fill=\"none\" stroke=\"currentColor\"/>\n",
       "    <text dy=\"1.25em\" style=\"font-size: 0.8em; letter-spacing: 1px\">\n",
       "        <textPath xlink:href=\"#arrow-d3db140c2c994fbb864b661fe366bf7c-0-0\" class=\"displacy-label\" startOffset=\"50%\" side=\"left\" fill=\"currentColor\" text-anchor=\"middle\">det</textPath>\n",
       "    </text>\n",
       "    <path class=\"displacy-arrowhead\" d=\"M62,124.0 L58,116.0 66,116.0\" fill=\"currentColor\"/>\n",
       "</g>\n",
       "\n",
       "<g class=\"displacy-arrow\">\n",
       "    <path class=\"displacy-arc\" id=\"arrow-d3db140c2c994fbb864b661fe366bf7c-0-1\" stroke-width=\"2px\" d=\"M142,122.0 142,95.33333333333333 287.0,95.33333333333333 287.0,122.0\" fill=\"none\" stroke=\"currentColor\"/>\n",
       "    <text dy=\"1.25em\" style=\"font-size: 0.8em; letter-spacing: 1px\">\n",
       "        <textPath xlink:href=\"#arrow-d3db140c2c994fbb864b661fe366bf7c-0-1\" class=\"displacy-label\" startOffset=\"50%\" side=\"left\" fill=\"currentColor\" text-anchor=\"middle\">amod</textPath>\n",
       "    </text>\n",
       "    <path class=\"displacy-arrowhead\" d=\"M142,124.0 L138,116.0 146,116.0\" fill=\"currentColor\"/>\n",
       "</g>\n",
       "\n",
       "<g class=\"displacy-arrow\">\n",
       "    <path class=\"displacy-arc\" id=\"arrow-d3db140c2c994fbb864b661fe366bf7c-0-2\" stroke-width=\"2px\" d=\"M222,122.0 222,108.66666666666667 284.0,108.66666666666667 284.0,122.0\" fill=\"none\" stroke=\"currentColor\"/>\n",
       "    <text dy=\"1.25em\" style=\"font-size: 0.8em; letter-spacing: 1px\">\n",
       "        <textPath xlink:href=\"#arrow-d3db140c2c994fbb864b661fe366bf7c-0-2\" class=\"displacy-label\" startOffset=\"50%\" side=\"left\" fill=\"currentColor\" text-anchor=\"middle\">amod</textPath>\n",
       "    </text>\n",
       "    <path class=\"displacy-arrowhead\" d=\"M222,124.0 L218,116.0 226,116.0\" fill=\"currentColor\"/>\n",
       "</g>\n",
       "\n",
       "<g class=\"displacy-arrow\">\n",
       "    <path class=\"displacy-arc\" id=\"arrow-d3db140c2c994fbb864b661fe366bf7c-0-3\" stroke-width=\"2px\" d=\"M302,122.0 302,108.66666666666667 364.0,108.66666666666667 364.0,122.0\" fill=\"none\" stroke=\"currentColor\"/>\n",
       "    <text dy=\"1.25em\" style=\"font-size: 0.8em; letter-spacing: 1px\">\n",
       "        <textPath xlink:href=\"#arrow-d3db140c2c994fbb864b661fe366bf7c-0-3\" class=\"displacy-label\" startOffset=\"50%\" side=\"left\" fill=\"currentColor\" text-anchor=\"middle\">nsubj</textPath>\n",
       "    </text>\n",
       "    <path class=\"displacy-arrowhead\" d=\"M302,124.0 L298,116.0 306,116.0\" fill=\"currentColor\"/>\n",
       "</g>\n",
       "\n",
       "<g class=\"displacy-arrow\">\n",
       "    <path class=\"displacy-arc\" id=\"arrow-d3db140c2c994fbb864b661fe366bf7c-0-4\" stroke-width=\"2px\" d=\"M382,122.0 382,108.66666666666667 444.0,108.66666666666667 444.0,122.0\" fill=\"none\" stroke=\"currentColor\"/>\n",
       "    <text dy=\"1.25em\" style=\"font-size: 0.8em; letter-spacing: 1px\">\n",
       "        <textPath xlink:href=\"#arrow-d3db140c2c994fbb864b661fe366bf7c-0-4\" class=\"displacy-label\" startOffset=\"50%\" side=\"left\" fill=\"currentColor\" text-anchor=\"middle\">prep</textPath>\n",
       "    </text>\n",
       "    <path class=\"displacy-arrowhead\" d=\"M444.0,124.0 L448.0,116.0 440.0,116.0\" fill=\"currentColor\"/>\n",
       "</g>\n",
       "\n",
       "<g class=\"displacy-arrow\">\n",
       "    <path class=\"displacy-arc\" id=\"arrow-d3db140c2c994fbb864b661fe366bf7c-0-5\" stroke-width=\"2px\" d=\"M542,122.0 542,95.33333333333333 687.0,95.33333333333333 687.0,122.0\" fill=\"none\" stroke=\"currentColor\"/>\n",
       "    <text dy=\"1.25em\" style=\"font-size: 0.8em; letter-spacing: 1px\">\n",
       "        <textPath xlink:href=\"#arrow-d3db140c2c994fbb864b661fe366bf7c-0-5\" class=\"displacy-label\" startOffset=\"50%\" side=\"left\" fill=\"currentColor\" text-anchor=\"middle\">det</textPath>\n",
       "    </text>\n",
       "    <path class=\"displacy-arrowhead\" d=\"M542,124.0 L538,116.0 546,116.0\" fill=\"currentColor\"/>\n",
       "</g>\n",
       "\n",
       "<g class=\"displacy-arrow\">\n",
       "    <path class=\"displacy-arc\" id=\"arrow-d3db140c2c994fbb864b661fe366bf7c-0-6\" stroke-width=\"2px\" d=\"M622,122.0 622,108.66666666666667 684.0,108.66666666666667 684.0,122.0\" fill=\"none\" stroke=\"currentColor\"/>\n",
       "    <text dy=\"1.25em\" style=\"font-size: 0.8em; letter-spacing: 1px\">\n",
       "        <textPath xlink:href=\"#arrow-d3db140c2c994fbb864b661fe366bf7c-0-6\" class=\"displacy-label\" startOffset=\"50%\" side=\"left\" fill=\"currentColor\" text-anchor=\"middle\">amod</textPath>\n",
       "    </text>\n",
       "    <path class=\"displacy-arrowhead\" d=\"M622,124.0 L618,116.0 626,116.0\" fill=\"currentColor\"/>\n",
       "</g>\n",
       "\n",
       "<g class=\"displacy-arrow\">\n",
       "    <path class=\"displacy-arc\" id=\"arrow-d3db140c2c994fbb864b661fe366bf7c-0-7\" stroke-width=\"2px\" d=\"M462,122.0 462,82.0 690.0,82.0 690.0,122.0\" fill=\"none\" stroke=\"currentColor\"/>\n",
       "    <text dy=\"1.25em\" style=\"font-size: 0.8em; letter-spacing: 1px\">\n",
       "        <textPath xlink:href=\"#arrow-d3db140c2c994fbb864b661fe366bf7c-0-7\" class=\"displacy-label\" startOffset=\"50%\" side=\"left\" fill=\"currentColor\" text-anchor=\"middle\">pobj</textPath>\n",
       "    </text>\n",
       "    <path class=\"displacy-arrowhead\" d=\"M690.0,124.0 L694.0,116.0 686.0,116.0\" fill=\"currentColor\"/>\n",
       "</g>\n",
       "</svg></span>"
      ],
      "text/plain": [
       "<IPython.core.display.HTML object>"
      ]
     },
     "metadata": {},
     "output_type": "display_data"
    }
   ],
   "source": [
    "# the displacy can be modified for own requirements\n",
    "options={\n",
    "    'distance':80,\n",
    "    'compact':True,\n",
    "    'color':'#fff',\n",
    "    'bg':'#00a65a'\n",
    "}\n",
    "\n",
    "displacy.render(doc,style='dep',jupyter=True,options=options)"
   ]
  },
  {
   "cell_type": "code",
   "execution_count": 3,
   "id": "9f7abf97",
   "metadata": {},
   "outputs": [
    {
     "name": "stdout",
     "output_type": "stream",
     "text": [
      "The ------> DET DT determiner\n",
      "University ------> PROPN NNP noun, proper singular\n",
      "of ------> ADP IN conjunction, subordinating or preposition\n",
      "Engineering ------> PROPN NNP noun, proper singular\n",
      "& ------> CCONJ CC conjunction, coordinating\n",
      "Technology ------> PROPN NNP noun, proper singular\n",
      "Mardan ------> PROPN NNP noun, proper singular\n",
      "was ------> AUX VBD verb, past tense\n",
      "established ------> VERB VBN verb, past participle\n",
      "in ------> ADP IN conjunction, subordinating or preposition\n",
      "2018 ------> NUM CD cardinal number\n",
      ", ------> PUNCT , punctuation mark, comma\n",
      "and ------> CCONJ CC conjunction, coordinating\n",
      "is ------> AUX VBZ verb, 3rd person singular present\n",
      "the ------> DET DT determiner\n",
      "second ------> ADJ JJ adjective (English), other noun-modifier (Chinese)\n",
      "Public ------> PROPN NNP noun, proper singular\n",
      "Sector ------> PROPN NNP noun, proper singular\n",
      "Engineering ------> PROPN NNP noun, proper singular\n",
      "university ------> NOUN NN noun, singular or mass\n",
      "in ------> ADP IN conjunction, subordinating or preposition\n",
      "Khyber ------> PROPN NNP noun, proper singular\n",
      "Pakhtunkhwa ------> PROPN NNP noun, proper singular\n",
      ", ------> PUNCT , punctuation mark, comma\n",
      "with ------> ADP IN conjunction, subordinating or preposition\n",
      "a ------> DET DT determiner\n",
      "mission ------> NOUN NN noun, singular or mass\n",
      "of ------> ADP IN conjunction, subordinating or preposition\n",
      "providing ------> VERB VBG verb, gerund or present participle\n",
      "quality ------> NOUN NN noun, singular or mass\n",
      "education ------> NOUN NN noun, singular or mass\n",
      "and ------> CCONJ CC conjunction, coordinating\n",
      "preparing ------> VERB VBG verb, gerund or present participle\n",
      "students ------> NOUN NNS noun, plural\n",
      "to ------> PART TO infinitival \"to\"\n",
      "tackle ------> VERB VB verb, base form\n",
      "the ------> DET DT determiner\n",
      "challenges ------> NOUN NNS noun, plural\n",
      "of ------> ADP IN conjunction, subordinating or preposition\n",
      "the ------> DET DT determiner\n",
      "industry ------> NOUN NN noun, singular or mass\n",
      ". ------> PUNCT . punctuation mark, sentence closer\n",
      "From ------> ADP IN conjunction, subordinating or preposition\n",
      "its ------> PRON PRP$ pronoun, possessive\n",
      "inception ------> NOUN NN noun, singular or mass\n",
      ", ------> PUNCT , punctuation mark, comma\n",
      "UET ------> PROPN NNP noun, proper singular\n",
      "Mardan ------> PROPN NNP noun, proper singular\n",
      "has ------> AUX VBZ verb, 3rd person singular present\n",
      "remained ------> VERB VBN verb, past participle\n",
      "dedicated ------> ADJ JJ adjective (English), other noun-modifier (Chinese)\n",
      "to ------> ADP IN conjunction, subordinating or preposition\n",
      "serving ------> VERB VBG verb, gerund or present participle\n",
      "the ------> DET DT determiner\n",
      "community ------> NOUN NN noun, singular or mass\n",
      "by ------> ADP IN conjunction, subordinating or preposition\n",
      "utilizing ------> VERB VBG verb, gerund or present participle\n",
      "projects ------> NOUN NNS noun, plural\n",
      "to ------> PART TO infinitival \"to\"\n",
      "solve ------> VERB VB verb, base form\n",
      "local ------> ADJ JJ adjective (English), other noun-modifier (Chinese)\n",
      "problems ------> NOUN NNS noun, plural\n",
      "and ------> CCONJ CC conjunction, coordinating\n",
      "further ------> ADV RBR adverb, comparative\n",
      "the ------> DET DT determiner\n",
      "common ------> ADJ JJ adjective (English), other noun-modifier (Chinese)\n",
      "good ------> NOUN NN noun, singular or mass\n",
      ". ------> PUNCT . punctuation mark, sentence closer\n",
      "In ------> ADP IN conjunction, subordinating or preposition\n",
      "a ------> DET DT determiner\n",
      "short ------> ADJ JJ adjective (English), other noun-modifier (Chinese)\n",
      "time ------> NOUN NN noun, singular or mass\n",
      ", ------> PUNCT , punctuation mark, comma\n",
      "UET ------> PROPN NNP noun, proper singular\n",
      "Mardan ------> PROPN NNP noun, proper singular\n",
      "has ------> AUX VBZ verb, 3rd person singular present\n",
      "achieved ------> VERB VBN verb, past participle\n",
      "significant ------> ADJ JJ adjective (English), other noun-modifier (Chinese)\n",
      "success ------> NOUN NN noun, singular or mass\n",
      "and ------> CCONJ CC conjunction, coordinating\n",
      "continues ------> VERB VBZ verb, 3rd person singular present\n",
      "to ------> PART TO infinitival \"to\"\n",
      "innovate ------> VERB VB verb, base form\n",
      "through ------> ADP IN conjunction, subordinating or preposition\n",
      "new ------> ADJ JJ adjective (English), other noun-modifier (Chinese)\n",
      "programs ------> NOUN NNS noun, plural\n",
      "that ------> PRON WDT wh-determiner\n",
      "offer ------> VERB VBP verb, non-3rd person singular present\n",
      "a ------> DET DT determiner\n",
      "contemporary ------> ADJ JJ adjective (English), other noun-modifier (Chinese)\n",
      "curriculum ------> NOUN NN noun, singular or mass\n",
      ", ------> PUNCT , punctuation mark, comma\n",
      "research ------> NOUN NN noun, singular or mass\n",
      "opportunities ------> NOUN NNS noun, plural\n",
      ", ------> PUNCT , punctuation mark, comma\n",
      "student ------> NOUN NN noun, singular or mass\n",
      "engagement ------> NOUN NN noun, singular or mass\n",
      ", ------> PUNCT , punctuation mark, comma\n",
      "practical ------> ADJ JJ adjective (English), other noun-modifier (Chinese)\n",
      "training ------> NOUN NN noun, singular or mass\n",
      ", ------> PUNCT , punctuation mark, comma\n",
      "faculty ------> NOUN NN noun, singular or mass\n",
      "development ------> NOUN NN noun, singular or mass\n",
      ", ------> PUNCT , punctuation mark, comma\n",
      "international ------> ADJ JJ adjective (English), other noun-modifier (Chinese)\n",
      "collaborations ------> NOUN NNS noun, plural\n",
      ", ------> PUNCT , punctuation mark, comma\n",
      "progress ------> NOUN NN noun, singular or mass\n",
      "towards ------> ADP IN conjunction, subordinating or preposition\n",
      "a ------> DET DT determiner\n",
      "state ------> NOUN NN noun, singular or mass\n",
      "- ------> PUNCT HYPH punctuation mark, hyphen\n",
      "of ------> ADP IN conjunction, subordinating or preposition\n",
      "- ------> PUNCT HYPH punctuation mark, hyphen\n",
      "the ------> DET DT determiner\n",
      "- ------> PUNCT HYPH punctuation mark, hyphen\n",
      "art ------> NOUN NN noun, singular or mass\n",
      "campus ------> NOUN NN noun, singular or mass\n",
      "building ------> NOUN NN noun, singular or mass\n",
      ", ------> PUNCT , punctuation mark, comma\n",
      "and ------> CCONJ CC conjunction, coordinating\n",
      "industry ------> NOUN NN noun, singular or mass\n",
      "partnerships ------> NOUN NNS noun, plural\n",
      ". ------> PUNCT . punctuation mark, sentence closer\n"
     ]
    }
   ],
   "source": [
    "# Now lets try to remove unnecessary tags from the document\n",
    "import spacy\n",
    "\n",
    "# Load the English language model\n",
    "nlp = spacy.load(\"en_core_web_sm\")\n",
    "\n",
    "welcome_doc = \"The University of Engineering & Technology Mardan was established in 2018, and is the second Public Sector Engineering university\" \\\n",
    "\" in Khyber Pakhtunkhwa, with a mission of providing quality education and preparing students to tackle the challenges of the industry.\" \\\n",
    "\" From its inception, UET Mardan has remained dedicated to serving the community by utilizing projects to solve local problems and further the \" \\\n",
    "\"common good. In a short time, UET Mardan has achieved significant success and continues to innovate through new programs that offer a \" \\\n",
    "\"contemporary curriculum, research opportunities, student engagement, practical training, faculty development, international collaborations, \" \\\n",
    "\"progress towards a state-of-the-art campus building, and industry partnerships.\"\n",
    "\n",
    "welcome_doc = nlp(welcome_doc)\n",
    "\n",
    "# let's check out the tags in the document\n",
    "for word in welcome_doc:\n",
    "    print(word.text, \"------>\", word.pos_, word.tag_, spacy.explain(word.tag_))\n"
   ]
  },
  {
   "cell_type": "code",
   "execution_count": 4,
   "id": "fb4652ea",
   "metadata": {},
   "outputs": [],
   "source": [
    "filtered_tokens = []\n",
    "for word in welcome_doc:\n",
    "    if word.pos_ not in ['PUNCT', 'DET', 'CCONJ', 'ADP', 'PRON']:\n",
    "        filtered_tokens.append(word)"
   ]
  },
  {
   "cell_type": "code",
   "execution_count": 5,
   "id": "f8a18229",
   "metadata": {},
   "outputs": [
    {
     "data": {
      "text/plain": [
       "[University,\n",
       " Engineering,\n",
       " Technology,\n",
       " Mardan,\n",
       " was,\n",
       " established,\n",
       " 2018,\n",
       " is,\n",
       " second,\n",
       " Public,\n",
       " Sector,\n",
       " Engineering,\n",
       " university,\n",
       " Khyber,\n",
       " Pakhtunkhwa,\n",
       " mission,\n",
       " providing,\n",
       " quality,\n",
       " education,\n",
       " preparing,\n",
       " students,\n",
       " to,\n",
       " tackle,\n",
       " challenges,\n",
       " industry,\n",
       " inception,\n",
       " UET,\n",
       " Mardan,\n",
       " has,\n",
       " remained,\n",
       " dedicated,\n",
       " serving,\n",
       " community,\n",
       " utilizing,\n",
       " projects,\n",
       " to,\n",
       " solve,\n",
       " local,\n",
       " problems,\n",
       " further,\n",
       " common,\n",
       " good,\n",
       " short,\n",
       " time,\n",
       " UET,\n",
       " Mardan,\n",
       " has,\n",
       " achieved,\n",
       " significant,\n",
       " success,\n",
       " continues,\n",
       " to,\n",
       " innovate,\n",
       " new,\n",
       " programs,\n",
       " offer,\n",
       " contemporary,\n",
       " curriculum,\n",
       " research,\n",
       " opportunities,\n",
       " student,\n",
       " engagement,\n",
       " practical,\n",
       " training,\n",
       " faculty,\n",
       " development,\n",
       " international,\n",
       " collaborations,\n",
       " progress,\n",
       " state,\n",
       " art,\n",
       " campus,\n",
       " building,\n",
       " industry,\n",
       " partnerships]"
      ]
     },
     "execution_count": 5,
     "metadata": {},
     "output_type": "execute_result"
    }
   ],
   "source": [
    "filtered_tokens[:]"
   ]
  }
 ],
 "metadata": {
  "kernelspec": {
   "display_name": "venv",
   "language": "python",
   "name": "python3"
  },
  "language_info": {
   "codemirror_mode": {
    "name": "ipython",
    "version": 3
   },
   "file_extension": ".py",
   "mimetype": "text/x-python",
   "name": "python",
   "nbconvert_exporter": "python",
   "pygments_lexer": "ipython3",
   "version": "3.10.0"
  }
 },
 "nbformat": 4,
 "nbformat_minor": 5
}
